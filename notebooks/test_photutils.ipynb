{
 "cells": [
  {
   "cell_type": "code",
   "execution_count": 1,
   "metadata": {},
   "outputs": [],
   "source": [
    "import heeps\n",
    "import photutils\n",
    "import numpy as np\n",
    "import matplotlib.pyplot as plt"
   ]
  },
  {
   "cell_type": "markdown",
   "metadata": {},
   "source": [
    "# center between pixels"
   ]
  },
  {
   "cell_type": "code",
   "execution_count": 2,
   "metadata": {},
   "outputs": [
    {
     "data": {
      "image/png": "[encoded data removed]",
      "text/plain": [
       "<Figure size 432x288 with 1 Axes>"
      ]
     },
     "metadata": {
      "needs_background": "light"
     },
     "output_type": "display_data"
    }
   ],
   "source": [
    "nx, ny = 15, 10\n",
    "cx, cy = 7.5, 4.5\n",
    "r = 2\n",
    "img = np.zeros((ny, nx))\n",
    "img[int(cy-r+.5):int(cy+r+.5),int(cx-r+.5):int(cx+r+.5)] = 1\n",
    "plt.imshow(img, origin='lower');"
   ]
  },
  {
   "cell_type": "code",
   "execution_count": 3,
   "metadata": {},
   "outputs": [
    {
     "name": "stdout",
     "output_type": "stream",
     "text": [
      " id xcenter ycenter aperture_sum\n",
      "      pix     pix               \n",
      "--- ------- ------- ------------\n",
      "  1     7.5     4.5         16.0\n",
      "expected: 16\n"
     ]
    }
   ],
   "source": [
    "aper = photutils.CircularAperture((cx, cy), r*np.sqrt(2))\n",
    "flux = photutils.aperture_photometry(img, aper, method='exact')\n",
    "print(flux)\n",
    "print('expected:', 4*r**2)"
   ]
  },
  {
   "cell_type": "code",
   "execution_count": 4,
   "metadata": {},
   "outputs": [
    {
     "name": "stdout",
     "output_type": "stream",
     "text": [
      " id xcenter ycenter    aperture_sum   \n",
      "      pix     pix                     \n",
      "--- ------- ------- ------------------\n",
      "  1     7.5     4.5 12.566370614359172\n",
      "expected: 12.566370614359172\n"
     ]
    }
   ],
   "source": [
    "aper = photutils.CircularAperture((cx, cy), r)\n",
    "flux = photutils.aperture_photometry(img, aper, method='exact')\n",
    "print(flux)\n",
    "print('expected:', np.pi*r**2)"
   ]
  },
  {
   "cell_type": "markdown",
   "metadata": {},
   "source": [
    "# center on a pixel"
   ]
  },
  {
   "cell_type": "code",
   "execution_count": 5,
   "metadata": {},
   "outputs": [
    {
     "data": {
      "image/png": "[encoded data removed]",
      "text/plain": [
       "<Figure size 432x288 with 1 Axes>"
      ]
     },
     "metadata": {
      "needs_background": "light"
     },
     "output_type": "display_data"
    }
   ],
   "source": [
    "nx, ny = 15, 10\n",
    "cx, cy = 8, 5\n",
    "r = 2.5\n",
    "img = np.zeros((ny, nx))\n",
    "img[int(cy-r+.5):int(cy+r+.5),int(cx-r+.5):int(cx+r+.5)] = 1\n",
    "plt.imshow(img, origin='lower');"
   ]
  },
  {
   "cell_type": "code",
   "execution_count": 6,
   "metadata": {},
   "outputs": [
    {
     "name": "stdout",
     "output_type": "stream",
     "text": [
      " id xcenter ycenter aperture_sum\n",
      "      pix     pix               \n",
      "--- ------- ------- ------------\n",
      "  1     8.0     5.0         25.0\n",
      "expected: 25.0\n"
     ]
    }
   ],
   "source": [
    "aper = photutils.CircularAperture((cx, cy), r*np.sqrt(2))\n",
    "flux = photutils.aperture_photometry(img, aper, method='exact')\n",
    "print(flux)\n",
    "print('expected:', 4*r**2)"
   ]
  },
  {
   "cell_type": "code",
   "execution_count": 7,
   "metadata": {},
   "outputs": [
    {
     "name": "stdout",
     "output_type": "stream",
     "text": [
      " id xcenter ycenter    aperture_sum   \n",
      "      pix     pix                     \n",
      "--- ------- ------- ------------------\n",
      "  1     8.0     5.0 19.634954084936208\n",
      "expected: 19.634954084936208\n"
     ]
    }
   ],
   "source": [
    "aper = photutils.CircularAperture((cx, cy), r)\n",
    "flux = photutils.aperture_photometry(img, aper, method='exact')\n",
    "print(flux)\n",
    "print('expected:', np.pi*r**2)"
   ]
  },
  {
   "cell_type": "markdown",
   "metadata": {},
   "source": [
    "# HEEPS PSF"
   ]
  },
  {
   "cell_type": "code",
   "execution_count": 8,
   "metadata": {},
   "outputs": [
    {
     "name": "stdout",
     "output_type": "stream",
     "text": [
      "Simulation config: band=L, mode=CVC\n",
      "‾‾‾‾‾‾‾‾‾‾‾‾‾‾‾‾‾‾\n",
      "   loading vortex back-propagation params\n",
      "   vc_charge=2, ngrid=1024, diam_norm=1.0838, beam_ratio=0.2568\n",
      "   npupil=285, pscale=5.4700 mas, lam=3.8112E-06 m\n",
      "   hfov=1.1 arcsec (-> ndet=403, 51.74 lam/D)\n",
      "\n"
     ]
    },
    {
     "data": {
      "image/png": "[encoded data removed]",
      "text/plain": [
       "<Figure size 432x288 with 1 Axes>"
      ]
     },
     "metadata": {
      "needs_background": "light"
     },
     "output_type": "display_data"
    }
   ],
   "source": [
    "conf = heeps.config.read_config(**dict(mode='CVC', f_pupil='pupil/ELT_fullM1.fits'))\n",
    "conf = heeps.config.update_config(verbose=True, **conf)\n",
    "wf = heeps.pupil.pupil(**conf)\n",
    "psf = heeps.wavefront.propagate_one(wf, **conf)\n",
    "ndet = psf.shape[0]\n",
    "cdet = ndet // 2\n",
    "cx, cy = 22, 20\n",
    "radius = 16\n",
    "img = psf[cdet-cy:cdet+cy+10,cdet-cx:cdet+cx+16]\n",
    "ny, nx = img.shape\n",
    "plt.imshow(np.log10(img), origin='lower');"
   ]
  },
  {
   "cell_type": "code",
   "execution_count": 9,
   "metadata": {},
   "outputs": [
    {
     "name": "stdout",
     "output_type": "stream",
     "text": [
      "nx, ny, cx, cy = 60, 50, 22.2, 20.2\n"
     ]
    }
   ],
   "source": [
    "# slightly increase cx and cy to make the center a float value\n",
    "cx += .2\n",
    "cy += .2\n",
    "print('nx, ny, cx, cy = %s, %s, %s, %s'%(nx, ny, cx, cy))"
   ]
  },
  {
   "cell_type": "code",
   "execution_count": 10,
   "metadata": {},
   "outputs": [
    {
     "name": "stdout",
     "output_type": "stream",
     "text": [
      "Sxy = 6.7438e-03\n",
      "[Ix, Iy] = [-1.7892e-04, -9.8032e-05]\n"
     ]
    },
    {
     "data": {
      "image/png": "[encoded data removed]",
      "text/plain": [
       "<Figure size 432x288 with 1 Axes>"
      ]
     },
     "metadata": {
      "needs_background": "light"
     },
     "output_type": "display_data"
    }
   ],
   "source": [
    "x, y = np.meshgrid(np.arange(nx)-cx, np.arange(ny)-cy)\n",
    "r = np.abs(x + 1j*y)\n",
    "img_mask = img*(r <= radius)\n",
    "np.seterr(divide = 'ignore') \n",
    "plt.imshow(np.log10(img_mask), origin='lower');\n",
    "Sxy = np.sum(img_mask)\n",
    "print('Sxy = %.4e'%Sxy)\n",
    "Sx = np.cumsum(np.sum(img_mask, axis=0))\n",
    "Sy = np.cumsum(np.sum(img_mask, axis=1))\n",
    "Ix = Sxy - 2*np.interp(cx, np.arange(nx)+.5, Sx)\n",
    "Iy = Sxy - 2*np.interp(cy, np.arange(ny)+.5, Sy)\n",
    "print('[Ix, Iy] = [%.4e, %.4e]'%(Ix, Iy))"
   ]
  },
  {
   "cell_type": "code",
   "execution_count": 11,
   "metadata": {},
   "outputs": [
    {
     "name": "stdout",
     "output_type": "stream",
     "text": [
      "Sxy = 6.7435e-03\n",
      "[Ix, Iy] = [-1.7991e-04, -9.9508e-05]\n"
     ]
    }
   ],
   "source": [
    "aper = photutils.CircularAperture((cx, cy), radius)\n",
    "Sxy = photutils.aperture_photometry(img, aper, method='exact')['aperture_sum'][0]\n",
    "print('Sxy = %.4e'%Sxy)\n",
    "y, x = np.indices((ny,nx))\n",
    "cx1 = np.floor(cx)-1\n",
    "cy1 = np.floor(cy)-1\n",
    "x_flux1 = photutils.aperture_photometry(img*(x<=cx1), aper, method='exact')['aperture_sum'][0]\n",
    "x_flux2 = photutils.aperture_photometry(img*(x<=(cx1+1)), aper, method='exact')['aperture_sum'][0]\n",
    "x_flux3 = photutils.aperture_photometry(img, aper, method='exact')['aperture_sum'][0]\n",
    "Sx = [x_flux1, x_flux2, x_flux3]\n",
    "y_flux1 = photutils.aperture_photometry(img*(y<=cy1), aper, method='exact')['aperture_sum'][0]\n",
    "y_flux2 = photutils.aperture_photometry(img*(y<=(cy1+1)), aper, method='exact')['aperture_sum'][0]\n",
    "y_flux3 = photutils.aperture_photometry(img, aper, method='exact')['aperture_sum'][0]\n",
    "Sy = [y_flux1, y_flux2, y_flux3]\n",
    "Ix = Sxy - 2*np.interp(cx, [cx1+.5, cx1+1.5, nx], Sx)\n",
    "Iy = Sxy - 2*np.interp(cy, [cy1+.5, cy1+1.5, ny], Sy)\n",
    "print('[Ix, Iy] = [%.4e, %.4e]'%(Ix, Iy))"
   ]
  }
 ],
 "metadata": {
  "interpreter": {
   "hash": "cd78fef2128015050713e82ca51c6520b11aee7c9ee8df750520bbbc7384cbaa"
  },
  "kernelspec": {
   "display_name": "Python 3",
   "language": "python",
   "name": "python3"
  },
  "language_info": {
   "codemirror_mode": {
    "name": "ipython",
    "version": 3
   },
   "file_extension": ".py",
   "mimetype": "text/x-python",
   "name": "python",
   "nbconvert_exporter": "python",
   "pygments_lexer": "ipython3",
   "version": "3.7.6"
  }
 },
 "nbformat": 4,
 "nbformat_minor": 4
}
