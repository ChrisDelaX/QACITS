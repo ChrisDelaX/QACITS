{
 "cells": [
  {
   "cell_type": "code",
   "execution_count": 11,
   "metadata": {},
   "outputs": [],
   "source": [
    "from qacits import run_qacits\n",
    "import heeps\n",
    "from astropy.io import fits\n",
    "import os\n",
    "import matplotlib.pyplot as plt\n",
    "import numpy as np"
   ]
  },
  {
   "cell_type": "markdown",
   "metadata": {},
   "source": [
    "# Calibration drift"
   ]
  },
  {
   "cell_type": "code",
   "execution_count": 10,
   "metadata": {},
   "outputs": [
    {
     "name": "stdout",
     "output_type": "stream",
     "text": [
      "calib drift = 120 points in each direction\n"
     ]
    },
    {
     "data": {
      "image/png": "[encoded data removed]",
      "text/plain": [
       "<Figure size 432x288 with 1 Axes>"
      ]
     },
     "metadata": {
      "needs_background": "light"
     },
     "output_type": "display_data"
    }
   ],
   "source": [
    "logb = .02\n",
    "npts = 120\n",
    "xy = np.logspace(np.log10(logb), np.log10(1 + logb), npts) - logb\n",
    "print('calib drift = %s points in each direction'%len(xy))\n",
    "plt.plot(xy,'-+')\n",
    "plt.xlim(0, len(xy))\n",
    "plt.ylim(0, 1)\n",
    "plt.xlabel('points')\n",
    "plt.ylabel('offsets [lam/D]')\n",
    "plt.grid(True), plt.grid(which='minor', linestyle=':');"
   ]
  },
  {
   "cell_type": "markdown",
   "metadata": {},
   "source": [
    "# L-band CVC"
   ]
  },
  {
   "cell_type": "markdown",
   "metadata": {},
   "source": [
    "### create calibration PSFs with HEEPS"
   ]
  },
  {
   "cell_type": "code",
   "execution_count": null,
   "metadata": {},
   "outputs": [],
   "source": [
    "conf = dict(\n",
    "    dir_output='calib',\n",
    "    f_pupil='pupil/ELT_fullM1.fits',\n",
    "    f_phase='wavefront/cube_Cfull_20211007_24s_100ms_0piston_meters_scao_only_L_285.fits'\n",
    "    band='L',\n",
    "    mode='CVC',\n",
    "    ls_dRext = 0.0209,\n",
    "    ls_dRint = 0.09,\n",
    "    ls_dRspi = 0.0245,\n",
    "\n",
    "    nframes=2*len(xy),\n",
    "    add_phase=True,\n",
    "    add_point_err=True,\n",
    "    )\n",
    "conf = heeps.config.read_config(verbose=False, **conf)\n",
    "conf = heeps.config.update_config(saveconf=True, verbose=False, **conf)\n"
   ]
  },
  {
   "cell_type": "code",
   "execution_count": null,
   "metadata": {},
   "outputs": [],
   "source": [
    "\n"
   ]
  },
  {
   "cell_type": "code",
   "execution_count": 2,
   "metadata": {},
   "outputs": [],
   "source": [
    "# load HEEPS data (on-axis PSF cube, and off-axis PSF frame)\n",
    "os.chdir(os.path.normpath(os.path.expandvars('$HOME/heeps_metis/output_files/scao_only')))\n",
    "f_psf_ON = 'onaxis_PSF_L_RAVC.fits'\n",
    "f_psf_OFF = 'offaxis_PSF_L_RAVC.fits'\n",
    "nframes = 10\n",
    "psf_ON = fits.getdata(f_psf_ON) [:nframes]\n",
    "psf_OFF = fits.getdata(f_psf_OFF) "
   ]
  },
  {
   "cell_type": "code",
   "execution_count": 6,
   "metadata": {},
   "outputs": [
    {
     "name": "stdout",
     "output_type": "stream",
     "text": [
      "lam=3.8112e-06, diam_ext=36.905, diam_nominal=38.542, ls_dRext=0.0291, pscale=5.47\n",
      "fwhm = 3.9811 pix\n"
     ]
    }
   ],
   "source": [
    "# calculate FWHM from HEEPS data\n",
    "hdr = fits.open(f_psf_OFF)[0].header\n",
    "conf = dict(\n",
    "    lam = float(hdr['LAM']),\n",
    "    diam_ext = float(hdr['DIAM_EXT']),\n",
    "    diam_nominal = float(hdr['DIAM_NOM']),\n",
    "    ls_dRext = float(hdr['LS_DREXT']),\n",
    "    pscale = float(hdr['PSCALE']),\n",
    ")\n",
    "print('lam=%.4e, diam_ext=%s, diam_nominal=%s, ls_dRext=%s, pscale=%s'%(*conf.values(),))\n",
    "from heeps.util.psf_flux import get_fwhm\n",
    "fwhm = get_fwhm(**conf)\n",
    "print('fwhm = %.4f pix'%fwhm)"
   ]
  },
  {
   "cell_type": "code",
   "execution_count": null,
   "metadata": {},
   "outputs": [],
   "source": [
    "run_qacits(psf_ON, psf_OFF, fwhm)"
   ]
  },
  {
   "cell_type": "code",
   "execution_count": null,
   "metadata": {},
   "outputs": [
    {
     "ename": "SyntaxError",
     "evalue": "can't use starred expression here (2927542552.py, line 4)",
     "output_type": "error",
     "traceback": [
      "\u001b[0;36m  File \u001b[0;32m\"/var/folders/p2/1fyx_gcx5m10hkypp8ms0f5h0000gn/T/ipykernel_13904/2927542552.py\"\u001b[0;36m, line \u001b[0;32m4\u001b[0m\n\u001b[0;31mSyntaxError\u001b[0m\u001b[0;31m:\u001b[0m can't use starred expression here\n"
     ]
    }
   ],
   "source": [
    "filename = 'onaxis_PSF_L_RAVC_small.fits'\n",
    "with fits.open(filename, 'update') as hdul:\n",
    "    hdul[0].data = hdul[0].data[:240]\n",
    "\n",
    "    # append all scalar parameters from the sorted conf dict\n",
    "    conf.update(dir_output=dir_output, band=band, mode=mode, pscale=pscale, dit=dit)\n",
    "    conf = {k: v for k, v in sorted(conf.items())}\n",
    "    for key, value in conf.items():\n",
    "        if type(value) not in (dict, list, np.ndarray):\n",
    "            hdul[0].header.append((key[:8], str(value)[-50:], key))  "
   ]
  },
  {
   "cell_type": "code",
   "execution_count": null,
   "metadata": {},
   "outputs": [],
   "source": []
  }
 ],
 "metadata": {
  "interpreter": {
   "hash": "cd78fef2128015050713e82ca51c6520b11aee7c9ee8df750520bbbc7384cbaa"
  },
  "kernelspec": {
   "display_name": "Python 3.7.0 ('base')",
   "language": "python",
   "name": "python3"
  },
  "language_info": {
   "codemirror_mode": {
    "name": "ipython",
    "version": 3
   },
   "file_extension": ".py",
   "mimetype": "text/x-python",
   "name": "python",
   "nbconvert_exporter": "python",
   "pygments_lexer": "ipython3",
   "version": "3.7.0"
  },
  "orig_nbformat": 4
 },
 "nbformat": 4,
 "nbformat_minor": 2
}
